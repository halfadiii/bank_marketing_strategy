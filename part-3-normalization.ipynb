{
 "cells": [
  {
   "cell_type": "code",
   "execution_count": 1,
   "metadata": {},
   "outputs": [],
   "source": [
    "import pandas as pd\n",
    "\n",
    "# Load the dataset\n",
    "file_path = r'bank-full.csv'\n",
    "data = pd.read_csv(file_path, delimiter=';')"
   ]
  },
  {
   "cell_type": "code",
   "execution_count": null,
   "metadata": {},
   "outputs": [],
   "source": [
    "# Check uniqueness of each row using all columns to see if a composite key is necessary\n",
    "if data.duplicated().sum() == 0:\n",
    "    print(\"Each row is unique, indicating that the whole record set may act as a primary key if no simpler key is found.\")\n",
    "else:\n",
    "    print(\"Some rows are duplicates and should be investigated or removed.\")"
   ]
  },
  {
   "cell_type": "code",
   "execution_count": null,
   "metadata": {},
   "outputs": [],
   "source": [
    "# Check potential candidate for primary key by counting unique values in combinations of columns\n",
    "candidate_keys = ['day', 'month', 'duration', 'campaign', 'pdays', 'previous']\n",
    "combinations = pd.Series(data[candidate_keys].apply(lambda row: '_'.join(row.values.astype(str)), axis=1))\n",
    "if combinations.is_unique:\n",
    "    print(\"The combination of day, month, duration, campaign, pdays, and previous can be a candidate for primary key.\")\n",
    "else:\n",
    "    print(\"The chosen combination is not unique.\")\n"
   ]
  },
  {
   "cell_type": "code",
   "execution_count": 4,
   "metadata": {},
   "outputs": [],
   "source": [
    "# Handling potential transitive dependency for 3NF normalization\n",
    "# Extracting unique mapping of pdays, previous to poutcome\n",
    "poutcome_mapping = data[['pdays', 'previous', 'poutcome']].drop_duplicates()\n",
    "data.drop(columns='poutcome', inplace=True)  # Optionally remove poutcome from the main table if normalization is required"
   ]
  },
  {
   "cell_type": "code",
   "execution_count": 5,
   "metadata": {},
   "outputs": [],
   "source": [
    "# Save the normalized tables if needed\n",
    "data.to_csv(r'Final tables\\main-table.csv', index=False)\n",
    "poutcome_mapping.to_csv(r'Final tables\\p-outcome-table.csv', index=False)"
   ]
  },
  {
   "cell_type": "code",
   "execution_count": null,
   "metadata": {},
   "outputs": [],
   "source": [
    "print(\"Normalization steps completed. Main data and poutcome mapping have been saved separately.\")"
   ]
  }
 ],
 "metadata": {
  "kernelspec": {
   "display_name": "Python 3",
   "language": "python",
   "name": "python3"
  },
  "language_info": {
   "codemirror_mode": {
    "name": "ipython",
    "version": 3
   },
   "file_extension": ".py",
   "mimetype": "text/x-python",
   "name": "python",
   "nbconvert_exporter": "python",
   "pygments_lexer": "ipython3",
   "version": "3.11.9"
  }
 },
 "nbformat": 4,
 "nbformat_minor": 2
}
