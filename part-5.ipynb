{
 "cells": [
  {
   "cell_type": "code",
   "execution_count": 1,
   "metadata": {},
   "outputs": [],
   "source": [
    "import sqlite3\n",
    "import pandas as pd\n",
    "from sklearn.preprocessing import StandardScaler\n",
    "from sklearn.model_selection import train_test_split\n",
    "from sklearn.linear_model import LogisticRegression\n",
    "from sklearn.metrics import classification_report, accuracy_score\n",
    "from sklearn.tree import DecisionTreeClassifier\n",
    "from sklearn.ensemble import GradientBoostingClassifier\n",
    "from scipy.stats import ttest_ind, chi2_contingency\n",
    "import numpy as np\n",
    "\n",
    "# Connect to SQLite database\n",
    "conn = sqlite3.connect('mydatabase.db')"
   ]
  },
  {
   "cell_type": "code",
   "execution_count": 2,
   "metadata": {},
   "outputs": [],
   "source": [
    "# Load data from SQLite database into DataFrame\n",
    "query = \"\"\"\n",
    "SELECT m.*, p.poutcome\n",
    "FROM main_table m\n",
    "JOIN p_outcome_table p ON m.id = p.id\n",
    "\"\"\"\n",
    "df = pd.read_sql_query(query, conn)\n",
    "conn.close()"
   ]
  },
  {
   "cell_type": "code",
   "execution_count": null,
   "metadata": {},
   "outputs": [],
   "source": [
    "# Statistical Analysis: Hypothesis Testing\n",
    "# T-test on 'balance' by 'poutcome'\n",
    "outcome_groups = df[df['poutcome'].notna()].groupby('poutcome')['balance']\n",
    "if len(outcome_groups) > 1:\n",
    "    t_stat, p_val = ttest_ind(outcome_groups.get_group('success'), outcome_groups.get_group('failure'))\n",
    "    print(f\"T-test between success and failure balance: T-stat={t_stat}, P-value={p_val}\")"
   ]
  },
  {
   "cell_type": "code",
   "execution_count": 4,
   "metadata": {},
   "outputs": [],
   "source": [
    "# Machine Learning Integration: Classification\n",
    "# Preprocessing\n",
    "df = pd.get_dummies(df, drop_first=True)\n",
    "X = df.drop('y_yes', axis=1)  # Assuming 'y_yes' is the target after encoding\n",
    "y = df['y_yes']\n",
    "X_train, X_test, y_train, y_test = train_test_split(X, y, test_size=0.2, random_state=42)"
   ]
  },
  {
   "cell_type": "code",
   "execution_count": 5,
   "metadata": {},
   "outputs": [],
   "source": [
    "# Standard Scaling\n",
    "scaler = StandardScaler()\n",
    "X_train_scaled = scaler.fit_transform(X_train)\n",
    "X_test_scaled = scaler.transform(X_test)"
   ]
  },
  {
   "cell_type": "code",
   "execution_count": null,
   "metadata": {},
   "outputs": [],
   "source": [
    "# Logistic Regression\n",
    "model_lr = LogisticRegression(max_iter=1000)\n",
    "model_lr.fit(X_train_scaled, y_train)\n",
    "predictions_lr = model_lr.predict(X_test_scaled)\n",
    "print(\"Logistic Regression Classification Report:\")\n",
    "print(classification_report(y_test, predictions_lr))"
   ]
  },
  {
   "cell_type": "code",
   "execution_count": null,
   "metadata": {},
   "outputs": [],
   "source": [
    "# Decision Tree\n",
    "model_dt = DecisionTreeClassifier(random_state=42)\n",
    "model_dt.fit(X_train, y_train)\n",
    "predictions_dt = model_dt.predict(X_test)\n",
    "print(\"Decision Tree Classification Report:\")\n",
    "print(classification_report(y_test, predictions_dt))"
   ]
  },
  {
   "cell_type": "code",
   "execution_count": null,
   "metadata": {},
   "outputs": [],
   "source": [
    "# Gradient Boosting\n",
    "model_gb = GradientBoostingClassifier(random_state=42)\n",
    "model_gb.fit(X_train_scaled, y_train)\n",
    "predictions_gb = model_gb.predict(X_test_scaled)\n",
    "print(\"Gradient Boosting Classification Report:\")\n",
    "print(classification_report(y_test, predictions_gb))"
   ]
  },
  {
   "cell_type": "code",
   "execution_count": null,
   "metadata": {},
   "outputs": [],
   "source": [
    "# Model Evaluation\n",
    "accuracy_lr = accuracy_score(y_test, predictions_lr)\n",
    "accuracy_dt = accuracy_score(y_test, predictions_dt)\n",
    "accuracy_gb = accuracy_score(y_test, predictions_gb)\n",
    "print(f\"Accuracies:\\nLogistic Regression: {accuracy_lr}\\nDecision Tree: {accuracy_dt}\\nGradient Boosting: {accuracy_gb}\")"
   ]
  },
  {
   "cell_type": "code",
   "execution_count": null,
   "metadata": {},
   "outputs": [],
   "source": [
    "# Insights: Summarize Key Findings\n",
    "# (This part is hypothetical as it depends on the actual analysis and results)\n",
    "print(\"Key Insights:\")\n",
    "print(f\"The Logistic Regression model performed with an accuracy of {accuracy_lr:.2f}.\")\n",
    "print(f\"Decision trees had an accuracy of {accuracy_dt:.2f}, indicating [specific insight].\")\n",
    "print(f\"Gradient Boosting showed an accuracy of {accuracy_gb:.2f}, which suggests [specific insight].\")"
   ]
  }
 ],
 "metadata": {
  "kernelspec": {
   "display_name": "Python 3",
   "language": "python",
   "name": "python3"
  },
  "language_info": {
   "codemirror_mode": {
    "name": "ipython",
    "version": 3
   },
   "file_extension": ".py",
   "mimetype": "text/x-python",
   "name": "python",
   "nbconvert_exporter": "python",
   "pygments_lexer": "ipython3",
   "version": "3.11.9"
  }
 },
 "nbformat": 4,
 "nbformat_minor": 2
}
