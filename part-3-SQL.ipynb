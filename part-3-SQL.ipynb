{
 "cells": [
  {
   "cell_type": "code",
   "execution_count": 9,
   "metadata": {},
   "outputs": [],
   "source": [
    "import sqlite3\n",
    "import pandas as pd"
   ]
  },
  {
   "cell_type": "code",
   "execution_count": 10,
   "metadata": {},
   "outputs": [],
   "source": [
    "def create_table_sql(df, table_name, primary_key=False):\n",
    "    types_mapping = {\n",
    "        'object': 'TEXT',\n",
    "        'int64': 'INTEGER',\n",
    "        'float64': 'REAL',\n",
    "        'datetime64[ns]': 'TEXT',\n",
    "        'bool': 'INTEGER'\n",
    "    }\n",
    "    columns_definitions = [f'\"{col}\" {types_mapping[str(df[col].dtype)]}' for col in df.columns]\n",
    "    if primary_key:\n",
    "        columns_definitions.insert(0, '\"id\" INTEGER PRIMARY KEY AUTOINCREMENT')\n",
    "    columns = ',\\n    '.join(columns_definitions)\n",
    "    sql = f\"CREATE TABLE IF NOT EXISTS {table_name} (\\n    {columns}\\n);\"\n",
    "    return sql"
   ]
  },
  {
   "cell_type": "code",
   "execution_count": 11,
   "metadata": {},
   "outputs": [],
   "source": [
    "# Connect to SQLite database\n",
    "conn = sqlite3.connect('mydatabase.db')"
   ]
  },
  {
   "cell_type": "code",
   "execution_count": 12,
   "metadata": {},
   "outputs": [],
   "source": [
    "# Read data from CSV files\n",
    "main_table_df = pd.read_csv(r'Final tables\\main-table.csv')\n",
    "p_outcome_df = pd.read_csv(r'Final tables\\p-outcome-table.csv')"
   ]
  },
  {
   "cell_type": "code",
   "execution_count": 13,
   "metadata": {},
   "outputs": [],
   "source": [
    "# Create SQL tables\n",
    "cursor = conn.cursor()\n",
    "cursor.execute(create_table_sql(main_table_df, 'main_table', primary_key=True))\n",
    "cursor.execute(create_table_sql(p_outcome_df, 'p_outcome_table', primary_key=True))\n",
    "conn.commit()"
   ]
  },
  {
   "cell_type": "code",
   "execution_count": 14,
   "metadata": {},
   "outputs": [],
   "source": [
    "# Adjust DataFrame index to start at 101 for primary key\n",
    "main_table_df.index = range(101, 101 + len(main_table_df))\n",
    "p_outcome_df.index = range(101, 101 + len(p_outcome_df))"
   ]
  },
  {
   "cell_type": "code",
   "execution_count": null,
   "metadata": {},
   "outputs": [],
   "source": [
    "# Load data into SQLite database from pandas DataFrame\n",
    "main_table_df.to_sql('main_table', conn, if_exists='replace', index=True, index_label='id')\n",
    "p_outcome_df.to_sql('p_outcome_table', conn, if_exists='replace', index=True, index_label='id')"
   ]
  },
  {
   "cell_type": "code",
   "execution_count": null,
   "metadata": {},
   "outputs": [],
   "source": [
    "# Example query to verify data import\n",
    "test_main_df = pd.read_sql_query('SELECT * FROM main_table LIMIT 5', conn)\n",
    "test_p_outcome_df = pd.read_sql_query('SELECT * FROM p_outcome_table LIMIT 5', conn)\n",
    "print(test_main_df)\n",
    "print(test_p_outcome_df)"
   ]
  },
  {
   "cell_type": "code",
   "execution_count": 17,
   "metadata": {},
   "outputs": [],
   "source": [
    "# Close the database connection\n",
    "conn.close()"
   ]
  }
 ],
 "metadata": {
  "kernelspec": {
   "display_name": "Python 3",
   "language": "python",
   "name": "python3"
  },
  "language_info": {
   "codemirror_mode": {
    "name": "ipython",
    "version": 3
   },
   "file_extension": ".py",
   "mimetype": "text/x-python",
   "name": "python",
   "nbconvert_exporter": "python",
   "pygments_lexer": "ipython3",
   "version": "3.11.9"
  }
 },
 "nbformat": 4,
 "nbformat_minor": 2
}
