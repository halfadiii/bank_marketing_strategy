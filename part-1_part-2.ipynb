{
 "cells": [
  {
   "cell_type": "code",
   "execution_count": 1,
   "id": "3ef6c2c0",
   "metadata": {
    "execution": {
     "iopub.execute_input": "2024-12-10T09:54:16.430698Z",
     "iopub.status.busy": "2024-12-10T09:54:16.429730Z",
     "iopub.status.idle": "2024-12-10T09:54:19.773323Z",
     "shell.execute_reply": "2024-12-10T09:54:19.772191Z"
    },
    "papermill": {
     "duration": 3.365113,
     "end_time": "2024-12-10T09:54:19.775770",
     "exception": false,
     "start_time": "2024-12-10T09:54:16.410657",
     "status": "completed"
    },
    "tags": []
   },
   "outputs": [],
   "source": [
    "import numpy as np\n",
    "import pandas as pd\n",
    "import seaborn as sns\n",
    "import matplotlib.pyplot as plt\n",
    "from sklearn.preprocessing import StandardScaler, LabelEncoder\n",
    "from sklearn.metrics import accuracy_score\n",
    "from sklearn.ensemble import RandomForestClassifier\n",
    "from sklearn.neighbors import KNeighborsClassifier\n",
    "from sklearn.linear_model import LogisticRegression\n",
    "from sklearn.neural_network import MLPClassifier\n",
    "from xgboost import XGBClassifier\n",
    "\n",
    "import warnings\n",
    "warnings.filterwarnings('ignore')\n"
   ]
  },
  {
   "cell_type": "code",
   "execution_count": null,
   "id": "563cfa07",
   "metadata": {
    "execution": {
     "iopub.execute_input": "2024-12-10T09:54:19.809457Z",
     "iopub.status.busy": "2024-12-10T09:54:19.808199Z",
     "iopub.status.idle": "2024-12-10T09:54:20.020656Z",
     "shell.execute_reply": "2024-12-10T09:54:20.019452Z"
    },
    "papermill": {
     "duration": 0.231207,
     "end_time": "2024-12-10T09:54:20.022887",
     "exception": false,
     "start_time": "2024-12-10T09:54:19.791680",
     "status": "completed"
    },
    "tags": []
   },
   "outputs": [],
   "source": [
    "bank_user = pd.read_csv(r'bank-full.csv', sep=\";\")\n",
    "df = bank_user.copy()\n",
    "df.head()"
   ]
  },
  {
   "cell_type": "code",
   "execution_count": null,
   "id": "5435c033",
   "metadata": {
    "execution": {
     "iopub.execute_input": "2024-12-10T09:54:20.057059Z",
     "iopub.status.busy": "2024-12-10T09:54:20.056529Z",
     "iopub.status.idle": "2024-12-10T09:54:20.106228Z",
     "shell.execute_reply": "2024-12-10T09:54:20.104857Z"
    },
    "papermill": {
     "duration": 0.069147,
     "end_time": "2024-12-10T09:54:20.108501",
     "exception": false,
     "start_time": "2024-12-10T09:54:20.039354",
     "status": "completed"
    },
    "tags": []
   },
   "outputs": [],
   "source": [
    "df.info()"
   ]
  },
  {
   "cell_type": "code",
   "execution_count": null,
   "id": "b99292fc",
   "metadata": {
    "execution": {
     "iopub.execute_input": "2024-12-10T09:54:20.142221Z",
     "iopub.status.busy": "2024-12-10T09:54:20.141861Z",
     "iopub.status.idle": "2024-12-10T09:54:20.148074Z",
     "shell.execute_reply": "2024-12-10T09:54:20.147117Z"
    },
    "papermill": {
     "duration": 0.025431,
     "end_time": "2024-12-10T09:54:20.150050",
     "exception": false,
     "start_time": "2024-12-10T09:54:20.124619",
     "status": "completed"
    },
    "tags": []
   },
   "outputs": [],
   "source": [
    "df.shape"
   ]
  },
  {
   "cell_type": "code",
   "execution_count": null,
   "id": "993fe111",
   "metadata": {
    "execution": {
     "iopub.execute_input": "2024-12-10T09:54:20.184111Z",
     "iopub.status.busy": "2024-12-10T09:54:20.183217Z",
     "iopub.status.idle": "2024-12-10T09:54:20.229025Z",
     "shell.execute_reply": "2024-12-10T09:54:20.227765Z"
    },
    "papermill": {
     "duration": 0.065441,
     "end_time": "2024-12-10T09:54:20.231205",
     "exception": false,
     "start_time": "2024-12-10T09:54:20.165764",
     "status": "completed"
    },
    "tags": []
   },
   "outputs": [],
   "source": [
    "df.describe().T"
   ]
  },
  {
   "cell_type": "code",
   "execution_count": null,
   "id": "2d7d7ab7",
   "metadata": {
    "execution": {
     "iopub.execute_input": "2024-12-10T09:54:20.264768Z",
     "iopub.status.busy": "2024-12-10T09:54:20.264346Z",
     "iopub.status.idle": "2024-12-10T09:54:20.295123Z",
     "shell.execute_reply": "2024-12-10T09:54:20.293901Z"
    },
    "papermill": {
     "duration": 0.050386,
     "end_time": "2024-12-10T09:54:20.297564",
     "exception": false,
     "start_time": "2024-12-10T09:54:20.247178",
     "status": "completed"
    },
    "tags": []
   },
   "outputs": [],
   "source": [
    "df.isnull().sum()"
   ]
  },
  {
   "cell_type": "markdown",
   "id": "6c5551a4",
   "metadata": {
    "papermill": {
     "duration": 0.015603,
     "end_time": "2024-12-10T09:54:20.330590",
     "exception": false,
     "start_time": "2024-12-10T09:54:20.314987",
     "status": "completed"
    },
    "tags": []
   },
   "source": [
    "### The effect of variables on the dependent variable 'y' with the correlation matrix."
   ]
  },
  {
   "cell_type": "code",
   "execution_count": 7,
   "id": "8fb300b4",
   "metadata": {
    "execution": {
     "iopub.execute_input": "2024-12-10T09:54:20.364456Z",
     "iopub.status.busy": "2024-12-10T09:54:20.364066Z",
     "iopub.status.idle": "2024-12-10T09:54:20.387362Z",
     "shell.execute_reply": "2024-12-10T09:54:20.386245Z"
    },
    "papermill": {
     "duration": 0.042871,
     "end_time": "2024-12-10T09:54:20.389688",
     "exception": false,
     "start_time": "2024-12-10T09:54:20.346817",
     "status": "completed"
    },
    "tags": []
   },
   "outputs": [],
   "source": [
    "df['y'] = df['y'].apply(lambda x: 1 if x == 'yes' else 0)"
   ]
  },
  {
   "cell_type": "code",
   "execution_count": 8,
   "id": "552241c8",
   "metadata": {
    "execution": {
     "iopub.execute_input": "2024-12-10T09:54:20.424127Z",
     "iopub.status.busy": "2024-12-10T09:54:20.423711Z",
     "iopub.status.idle": "2024-12-10T09:54:20.430853Z",
     "shell.execute_reply": "2024-12-10T09:54:20.429830Z"
    },
    "papermill": {
     "duration": 0.027179,
     "end_time": "2024-12-10T09:54:20.433121",
     "exception": false,
     "start_time": "2024-12-10T09:54:20.405942",
     "status": "completed"
    },
    "tags": []
   },
   "outputs": [],
   "source": [
    "df_numeric = df.select_dtypes(include=('int64'))"
   ]
  },
  {
   "cell_type": "code",
   "execution_count": null,
   "id": "4c45486a",
   "metadata": {
    "execution": {
     "iopub.execute_input": "2024-12-10T09:54:20.467017Z",
     "iopub.status.busy": "2024-12-10T09:54:20.466617Z",
     "iopub.status.idle": "2024-12-10T09:54:20.477892Z",
     "shell.execute_reply": "2024-12-10T09:54:20.476862Z"
    },
    "papermill": {
     "duration": 0.030849,
     "end_time": "2024-12-10T09:54:20.480118",
     "exception": false,
     "start_time": "2024-12-10T09:54:20.449269",
     "status": "completed"
    },
    "tags": []
   },
   "outputs": [],
   "source": [
    "df_numeric.head()"
   ]
  },
  {
   "cell_type": "code",
   "execution_count": 10,
   "id": "ce4fea46",
   "metadata": {
    "execution": {
     "iopub.execute_input": "2024-12-10T09:54:20.514192Z",
     "iopub.status.busy": "2024-12-10T09:54:20.513812Z",
     "iopub.status.idle": "2024-12-10T09:54:20.530418Z",
     "shell.execute_reply": "2024-12-10T09:54:20.529375Z"
    },
    "papermill": {
     "duration": 0.036638,
     "end_time": "2024-12-10T09:54:20.533035",
     "exception": false,
     "start_time": "2024-12-10T09:54:20.496397",
     "status": "completed"
    },
    "tags": []
   },
   "outputs": [],
   "source": [
    "correlation_matrix = df_numeric.corr()"
   ]
  },
  {
   "cell_type": "markdown",
   "id": "6219475b",
   "metadata": {
    "papermill": {
     "duration": 0.017221,
     "end_time": "2024-12-10T09:54:21.093600",
     "exception": false,
     "start_time": "2024-12-10T09:54:21.076379",
     "status": "completed"
    },
    "tags": []
   },
   "source": [
    "#### We removed the variables that have no effect on the dependent variable."
   ]
  },
  {
   "cell_type": "code",
   "execution_count": 11,
   "id": "78ecfbbb",
   "metadata": {
    "execution": {
     "iopub.execute_input": "2024-12-10T09:54:21.132259Z",
     "iopub.status.busy": "2024-12-10T09:54:21.131864Z",
     "iopub.status.idle": "2024-12-10T09:54:21.142377Z",
     "shell.execute_reply": "2024-12-10T09:54:21.141277Z"
    },
    "papermill": {
     "duration": 0.032105,
     "end_time": "2024-12-10T09:54:21.144685",
     "exception": false,
     "start_time": "2024-12-10T09:54:21.112580",
     "status": "completed"
    },
    "tags": []
   },
   "outputs": [],
   "source": [
    "df = df.drop(columns = ['campaign','day'])"
   ]
  },
  {
   "cell_type": "markdown",
   "id": "8b82f36f",
   "metadata": {
    "papermill": {
     "duration": 0.017323,
     "end_time": "2024-12-10T09:54:21.179664",
     "exception": false,
     "start_time": "2024-12-10T09:54:21.162341",
     "status": "completed"
    },
    "tags": []
   },
   "source": [
    "# Examine each variable separately"
   ]
  },
  {
   "cell_type": "markdown",
   "id": "6bc8190c",
   "metadata": {
    "papermill": {
     "duration": 0.017374,
     "end_time": "2024-12-10T09:54:21.215579",
     "exception": false,
     "start_time": "2024-12-10T09:54:21.198205",
     "status": "completed"
    },
    "tags": []
   },
   "source": [
    "## Age"
   ]
  },
  {
   "cell_type": "code",
   "execution_count": null,
   "id": "3f21fc28",
   "metadata": {
    "execution": {
     "iopub.execute_input": "2024-12-10T09:54:21.252292Z",
     "iopub.status.busy": "2024-12-10T09:54:21.251920Z",
     "iopub.status.idle": "2024-12-10T09:54:21.261771Z",
     "shell.execute_reply": "2024-12-10T09:54:21.260574Z"
    },
    "papermill": {
     "duration": 0.031002,
     "end_time": "2024-12-10T09:54:21.264077",
     "exception": false,
     "start_time": "2024-12-10T09:54:21.233075",
     "status": "completed"
    },
    "tags": []
   },
   "outputs": [],
   "source": [
    "df['age'].unique()"
   ]
  },
  {
   "cell_type": "code",
   "execution_count": null,
   "id": "2ae01c44",
   "metadata": {
    "execution": {
     "iopub.execute_input": "2024-12-10T09:54:21.301095Z",
     "iopub.status.busy": "2024-12-10T09:54:21.300695Z",
     "iopub.status.idle": "2024-12-10T09:54:21.312106Z",
     "shell.execute_reply": "2024-12-10T09:54:21.311067Z"
    },
    "papermill": {
     "duration": 0.032493,
     "end_time": "2024-12-10T09:54:21.314304",
     "exception": false,
     "start_time": "2024-12-10T09:54:21.281811",
     "status": "completed"
    },
    "tags": []
   },
   "outputs": [],
   "source": [
    "df['age'].value_counts()"
   ]
  },
  {
   "cell_type": "markdown",
   "id": "ea3afbb9",
   "metadata": {
    "papermill": {
     "duration": 0.018428,
     "end_time": "2024-12-10T09:54:22.035138",
     "exception": false,
     "start_time": "2024-12-10T09:54:22.016710",
     "status": "completed"
    },
    "tags": []
   },
   "source": [
    "## Job"
   ]
  },
  {
   "cell_type": "code",
   "execution_count": null,
   "id": "3babcfd4",
   "metadata": {
    "execution": {
     "iopub.execute_input": "2024-12-10T09:54:22.075768Z",
     "iopub.status.busy": "2024-12-10T09:54:22.074956Z",
     "iopub.status.idle": "2024-12-10T09:54:22.087318Z",
     "shell.execute_reply": "2024-12-10T09:54:22.086076Z"
    },
    "papermill": {
     "duration": 0.03547,
     "end_time": "2024-12-10T09:54:22.089698",
     "exception": false,
     "start_time": "2024-12-10T09:54:22.054228",
     "status": "completed"
    },
    "tags": []
   },
   "outputs": [],
   "source": [
    "df['job'].unique()"
   ]
  },
  {
   "cell_type": "code",
   "execution_count": null,
   "id": "844a98ed",
   "metadata": {
    "execution": {
     "iopub.execute_input": "2024-12-10T09:54:22.132747Z",
     "iopub.status.busy": "2024-12-10T09:54:22.132362Z",
     "iopub.status.idle": "2024-12-10T09:54:22.146252Z",
     "shell.execute_reply": "2024-12-10T09:54:22.144953Z"
    },
    "papermill": {
     "duration": 0.036811,
     "end_time": "2024-12-10T09:54:22.148394",
     "exception": false,
     "start_time": "2024-12-10T09:54:22.111583",
     "status": "completed"
    },
    "tags": []
   },
   "outputs": [],
   "source": [
    "df['job'].value_counts()"
   ]
  },
  {
   "cell_type": "code",
   "execution_count": 16,
   "id": "06f292fd",
   "metadata": {
    "execution": {
     "iopub.execute_input": "2024-12-10T09:54:22.187536Z",
     "iopub.status.busy": "2024-12-10T09:54:22.187199Z",
     "iopub.status.idle": "2024-12-10T09:54:22.202900Z",
     "shell.execute_reply": "2024-12-10T09:54:22.201862Z"
    },
    "papermill": {
     "duration": 0.038141,
     "end_time": "2024-12-10T09:54:22.205339",
     "exception": false,
     "start_time": "2024-12-10T09:54:22.167198",
     "status": "completed"
    },
    "tags": []
   },
   "outputs": [],
   "source": [
    "df = df[df['job'] != 'unknown']"
   ]
  },
  {
   "cell_type": "markdown",
   "id": "4ac63e51",
   "metadata": {
    "papermill": {
     "duration": 0.019756,
     "end_time": "2024-12-10T09:54:22.842452",
     "exception": false,
     "start_time": "2024-12-10T09:54:22.822696",
     "status": "completed"
    },
    "tags": []
   },
   "source": [
    "## Marital"
   ]
  },
  {
   "cell_type": "code",
   "execution_count": null,
   "id": "326412a4",
   "metadata": {
    "execution": {
     "iopub.execute_input": "2024-12-10T09:54:22.882902Z",
     "iopub.status.busy": "2024-12-10T09:54:22.882494Z",
     "iopub.status.idle": "2024-12-10T09:54:22.891814Z",
     "shell.execute_reply": "2024-12-10T09:54:22.890849Z"
    },
    "papermill": {
     "duration": 0.032323,
     "end_time": "2024-12-10T09:54:22.893864",
     "exception": false,
     "start_time": "2024-12-10T09:54:22.861541",
     "status": "completed"
    },
    "tags": []
   },
   "outputs": [],
   "source": [
    "df['marital'].unique()"
   ]
  },
  {
   "cell_type": "markdown",
   "id": "42ffe1a9",
   "metadata": {
    "papermill": {
     "duration": 0.019704,
     "end_time": "2024-12-10T09:54:23.381580",
     "exception": false,
     "start_time": "2024-12-10T09:54:23.361876",
     "status": "completed"
    },
    "tags": []
   },
   "source": [
    "## Education"
   ]
  },
  {
   "cell_type": "code",
   "execution_count": null,
   "id": "867539a4",
   "metadata": {
    "execution": {
     "iopub.execute_input": "2024-12-10T09:54:23.422918Z",
     "iopub.status.busy": "2024-12-10T09:54:23.422531Z",
     "iopub.status.idle": "2024-12-10T09:54:23.431999Z",
     "shell.execute_reply": "2024-12-10T09:54:23.430772Z"
    },
    "papermill": {
     "duration": 0.032693,
     "end_time": "2024-12-10T09:54:23.434135",
     "exception": false,
     "start_time": "2024-12-10T09:54:23.401442",
     "status": "completed"
    },
    "tags": []
   },
   "outputs": [],
   "source": [
    "df['education'].unique()"
   ]
  },
  {
   "cell_type": "code",
   "execution_count": null,
   "id": "4cd81b00",
   "metadata": {
    "execution": {
     "iopub.execute_input": "2024-12-10T09:54:23.475612Z",
     "iopub.status.busy": "2024-12-10T09:54:23.475264Z",
     "iopub.status.idle": "2024-12-10T09:54:23.486618Z",
     "shell.execute_reply": "2024-12-10T09:54:23.485689Z"
    },
    "papermill": {
     "duration": 0.034467,
     "end_time": "2024-12-10T09:54:23.488544",
     "exception": false,
     "start_time": "2024-12-10T09:54:23.454077",
     "status": "completed"
    },
    "tags": []
   },
   "outputs": [],
   "source": [
    "df['education'].value_counts()"
   ]
  },
  {
   "cell_type": "code",
   "execution_count": 20,
   "id": "63b35e5f",
   "metadata": {
    "execution": {
     "iopub.execute_input": "2024-12-10T09:54:23.530507Z",
     "iopub.status.busy": "2024-12-10T09:54:23.530167Z",
     "iopub.status.idle": "2024-12-10T09:54:23.545165Z",
     "shell.execute_reply": "2024-12-10T09:54:23.544112Z"
    },
    "papermill": {
     "duration": 0.038697,
     "end_time": "2024-12-10T09:54:23.547407",
     "exception": false,
     "start_time": "2024-12-10T09:54:23.508710",
     "status": "completed"
    },
    "tags": []
   },
   "outputs": [],
   "source": [
    "df = df[df['education'] != 'unknown']"
   ]
  },
  {
   "cell_type": "markdown",
   "id": "2517aa6d",
   "metadata": {
    "papermill": {
     "duration": 0.020871,
     "end_time": "2024-12-10T09:54:23.948612",
     "exception": false,
     "start_time": "2024-12-10T09:54:23.927741",
     "status": "completed"
    },
    "tags": []
   },
   "source": [
    "## Default"
   ]
  },
  {
   "cell_type": "code",
   "execution_count": null,
   "id": "fde9d54e",
   "metadata": {
    "execution": {
     "iopub.execute_input": "2024-12-10T09:54:23.991628Z",
     "iopub.status.busy": "2024-12-10T09:54:23.990768Z",
     "iopub.status.idle": "2024-12-10T09:54:24.000061Z",
     "shell.execute_reply": "2024-12-10T09:54:23.999095Z"
    },
    "papermill": {
     "duration": 0.032919,
     "end_time": "2024-12-10T09:54:24.002113",
     "exception": false,
     "start_time": "2024-12-10T09:54:23.969194",
     "status": "completed"
    },
    "tags": []
   },
   "outputs": [],
   "source": [
    "df['default'].unique()"
   ]
  },
  {
   "cell_type": "code",
   "execution_count": null,
   "id": "e2093fc7",
   "metadata": {
    "execution": {
     "iopub.execute_input": "2024-12-10T09:54:24.045504Z",
     "iopub.status.busy": "2024-12-10T09:54:24.045133Z",
     "iopub.status.idle": "2024-12-10T09:54:24.055883Z",
     "shell.execute_reply": "2024-12-10T09:54:24.054839Z"
    },
    "papermill": {
     "duration": 0.035248,
     "end_time": "2024-12-10T09:54:24.058171",
     "exception": false,
     "start_time": "2024-12-10T09:54:24.022923",
     "status": "completed"
    },
    "tags": []
   },
   "outputs": [],
   "source": [
    "df['default'].value_counts()"
   ]
  },
  {
   "cell_type": "markdown",
   "id": "10d79879",
   "metadata": {
    "papermill": {
     "duration": 0.021372,
     "end_time": "2024-12-10T09:54:24.518305",
     "exception": false,
     "start_time": "2024-12-10T09:54:24.496933",
     "status": "completed"
    },
    "tags": []
   },
   "source": [
    "## Housing\t"
   ]
  },
  {
   "cell_type": "code",
   "execution_count": null,
   "id": "14feedef",
   "metadata": {
    "execution": {
     "iopub.execute_input": "2024-12-10T09:54:24.563887Z",
     "iopub.status.busy": "2024-12-10T09:54:24.563445Z",
     "iopub.status.idle": "2024-12-10T09:54:24.572189Z",
     "shell.execute_reply": "2024-12-10T09:54:24.571128Z"
    },
    "papermill": {
     "duration": 0.034311,
     "end_time": "2024-12-10T09:54:24.574322",
     "exception": false,
     "start_time": "2024-12-10T09:54:24.540011",
     "status": "completed"
    },
    "tags": []
   },
   "outputs": [],
   "source": [
    "df['housing'].unique()"
   ]
  },
  {
   "cell_type": "code",
   "execution_count": null,
   "id": "4d2cc657",
   "metadata": {
    "execution": {
     "iopub.execute_input": "2024-12-10T09:54:24.619093Z",
     "iopub.status.busy": "2024-12-10T09:54:24.618665Z",
     "iopub.status.idle": "2024-12-10T09:54:24.629962Z",
     "shell.execute_reply": "2024-12-10T09:54:24.628877Z"
    },
    "papermill": {
     "duration": 0.036071,
     "end_time": "2024-12-10T09:54:24.631992",
     "exception": false,
     "start_time": "2024-12-10T09:54:24.595921",
     "status": "completed"
    },
    "tags": []
   },
   "outputs": [],
   "source": [
    "df['housing'].value_counts()"
   ]
  },
  {
   "cell_type": "markdown",
   "id": "37865fee",
   "metadata": {
    "papermill": {
     "duration": 0.024113,
     "end_time": "2024-12-10T09:54:25.072086",
     "exception": false,
     "start_time": "2024-12-10T09:54:25.047973",
     "status": "completed"
    },
    "tags": []
   },
   "source": [
    "## Loan"
   ]
  },
  {
   "cell_type": "code",
   "execution_count": null,
   "id": "20d2b595",
   "metadata": {
    "execution": {
     "iopub.execute_input": "2024-12-10T09:54:25.120933Z",
     "iopub.status.busy": "2024-12-10T09:54:25.120521Z",
     "iopub.status.idle": "2024-12-10T09:54:25.129357Z",
     "shell.execute_reply": "2024-12-10T09:54:25.128414Z"
    },
    "papermill": {
     "duration": 0.035732,
     "end_time": "2024-12-10T09:54:25.131373",
     "exception": false,
     "start_time": "2024-12-10T09:54:25.095641",
     "status": "completed"
    },
    "tags": []
   },
   "outputs": [],
   "source": [
    "df['loan'].unique()"
   ]
  },
  {
   "cell_type": "code",
   "execution_count": null,
   "id": "ba2797f8",
   "metadata": {
    "execution": {
     "iopub.execute_input": "2024-12-10T09:54:25.178257Z",
     "iopub.status.busy": "2024-12-10T09:54:25.177875Z",
     "iopub.status.idle": "2024-12-10T09:54:25.188936Z",
     "shell.execute_reply": "2024-12-10T09:54:25.187709Z"
    },
    "papermill": {
     "duration": 0.037159,
     "end_time": "2024-12-10T09:54:25.191097",
     "exception": false,
     "start_time": "2024-12-10T09:54:25.153938",
     "status": "completed"
    },
    "tags": []
   },
   "outputs": [],
   "source": [
    "df['loan'].value_counts()"
   ]
  },
  {
   "cell_type": "markdown",
   "id": "6ca872e5",
   "metadata": {
    "papermill": {
     "duration": 0.022368,
     "end_time": "2024-12-10T09:54:25.638441",
     "exception": false,
     "start_time": "2024-12-10T09:54:25.616073",
     "status": "completed"
    },
    "tags": []
   },
   "source": [
    "## Contact"
   ]
  },
  {
   "cell_type": "code",
   "execution_count": null,
   "id": "13d55caf",
   "metadata": {
    "execution": {
     "iopub.execute_input": "2024-12-10T09:54:25.685524Z",
     "iopub.status.busy": "2024-12-10T09:54:25.684833Z",
     "iopub.status.idle": "2024-12-10T09:54:25.693616Z",
     "shell.execute_reply": "2024-12-10T09:54:25.692628Z"
    },
    "papermill": {
     "duration": 0.034599,
     "end_time": "2024-12-10T09:54:25.695631",
     "exception": false,
     "start_time": "2024-12-10T09:54:25.661032",
     "status": "completed"
    },
    "tags": []
   },
   "outputs": [],
   "source": [
    "df['contact'].unique()"
   ]
  },
  {
   "cell_type": "code",
   "execution_count": null,
   "id": "d3cc9948",
   "metadata": {
    "execution": {
     "iopub.execute_input": "2024-12-10T09:54:25.745341Z",
     "iopub.status.busy": "2024-12-10T09:54:25.744344Z",
     "iopub.status.idle": "2024-12-10T09:54:25.756002Z",
     "shell.execute_reply": "2024-12-10T09:54:25.754905Z"
    },
    "papermill": {
     "duration": 0.038262,
     "end_time": "2024-12-10T09:54:25.758188",
     "exception": false,
     "start_time": "2024-12-10T09:54:25.719926",
     "status": "completed"
    },
    "tags": []
   },
   "outputs": [],
   "source": [
    "df['contact'].value_counts()"
   ]
  },
  {
   "cell_type": "markdown",
   "id": "a665b15b",
   "metadata": {
    "papermill": {
     "duration": 0.022374,
     "end_time": "2024-12-10T09:54:25.803248",
     "exception": false,
     "start_time": "2024-12-10T09:54:25.780874",
     "status": "completed"
    },
    "tags": []
   },
   "source": [
    "Updating the dataset with the new values after allocating the unknown category's values proportionately between telephone and cellular based on their current counts in the dataset."
   ]
  },
  {
   "cell_type": "code",
   "execution_count": null,
   "id": "0479e2c1",
   "metadata": {
    "execution": {
     "iopub.execute_input": "2024-12-10T09:54:25.850297Z",
     "iopub.status.busy": "2024-12-10T09:54:25.849916Z",
     "iopub.status.idle": "2024-12-10T09:54:25.875753Z",
     "shell.execute_reply": "2024-12-10T09:54:25.874572Z"
    },
    "papermill": {
     "duration": 0.051874,
     "end_time": "2024-12-10T09:54:25.878090",
     "exception": false,
     "start_time": "2024-12-10T09:54:25.826216",
     "status": "completed"
    },
    "tags": []
   },
   "outputs": [],
   "source": [
    "contact_counts = df['contact'].value_counts()\n",
    "\n",
    "unknown_count = contact_counts['unknown']\n",
    "cellular_count = contact_counts['cellular']\n",
    "telephone_count = contact_counts['telephone']\n",
    "\n",
    "total = cellular_count + telephone_count\n",
    "cellular_ratio = cellular_count / total\n",
    "telephone_ratio = telephone_count / total\n",
    "\n",
    "cellular_add = int(unknown_count * cellular_ratio)\n",
    "telephone_add = int(unknown_count * telephone_ratio)\n",
    "\n",
    "df.loc[df['contact'] == 'unknown', 'contact'] = 'cellular'\n",
    "df.loc[df.index[df['contact'] == 'cellular'][:telephone_add], 'contact'] = 'telephone'\n",
    "\n",
    "new_contact_counts = df['contact'].value_counts()\n",
    "print(new_contact_counts)\n"
   ]
  },
  {
   "cell_type": "markdown",
   "id": "c5ecb09f",
   "metadata": {
    "papermill": {
     "duration": 0.023314,
     "end_time": "2024-12-10T09:54:26.341382",
     "exception": false,
     "start_time": "2024-12-10T09:54:26.318068",
     "status": "completed"
    },
    "tags": []
   },
   "source": [
    "## Month"
   ]
  },
  {
   "cell_type": "code",
   "execution_count": null,
   "id": "284ecf5a",
   "metadata": {
    "execution": {
     "iopub.execute_input": "2024-12-10T09:54:26.390345Z",
     "iopub.status.busy": "2024-12-10T09:54:26.389931Z",
     "iopub.status.idle": "2024-12-10T09:54:26.398749Z",
     "shell.execute_reply": "2024-12-10T09:54:26.397754Z"
    },
    "papermill": {
     "duration": 0.035947,
     "end_time": "2024-12-10T09:54:26.400909",
     "exception": false,
     "start_time": "2024-12-10T09:54:26.364962",
     "status": "completed"
    },
    "tags": []
   },
   "outputs": [],
   "source": [
    "df['month'].unique()"
   ]
  },
  {
   "cell_type": "code",
   "execution_count": null,
   "id": "5c5324cf",
   "metadata": {
    "execution": {
     "iopub.execute_input": "2024-12-10T09:54:26.449696Z",
     "iopub.status.busy": "2024-12-10T09:54:26.449332Z",
     "iopub.status.idle": "2024-12-10T09:54:26.460217Z",
     "shell.execute_reply": "2024-12-10T09:54:26.459141Z"
    },
    "papermill": {
     "duration": 0.037901,
     "end_time": "2024-12-10T09:54:26.462189",
     "exception": false,
     "start_time": "2024-12-10T09:54:26.424288",
     "status": "completed"
    },
    "tags": []
   },
   "outputs": [],
   "source": [
    "df['month'].value_counts()"
   ]
  },
  {
   "cell_type": "markdown",
   "id": "4bde1d71",
   "metadata": {
    "papermill": {
     "duration": 0.024908,
     "end_time": "2024-12-10T09:54:26.969102",
     "exception": false,
     "start_time": "2024-12-10T09:54:26.944194",
     "status": "completed"
    },
    "tags": []
   },
   "source": [
    "## Duration"
   ]
  },
  {
   "cell_type": "code",
   "execution_count": null,
   "id": "0c637b02",
   "metadata": {
    "execution": {
     "iopub.execute_input": "2024-12-10T09:54:27.020147Z",
     "iopub.status.busy": "2024-12-10T09:54:27.019723Z",
     "iopub.status.idle": "2024-12-10T09:54:27.027737Z",
     "shell.execute_reply": "2024-12-10T09:54:27.026688Z"
    },
    "papermill": {
     "duration": 0.035661,
     "end_time": "2024-12-10T09:54:27.029960",
     "exception": false,
     "start_time": "2024-12-10T09:54:26.994299",
     "status": "completed"
    },
    "tags": []
   },
   "outputs": [],
   "source": [
    "df['duration'].unique()"
   ]
  },
  {
   "cell_type": "code",
   "execution_count": null,
   "id": "e30d7c96",
   "metadata": {
    "execution": {
     "iopub.execute_input": "2024-12-10T09:54:27.081650Z",
     "iopub.status.busy": "2024-12-10T09:54:27.080620Z",
     "iopub.status.idle": "2024-12-10T09:54:27.090165Z",
     "shell.execute_reply": "2024-12-10T09:54:27.088888Z"
    },
    "papermill": {
     "duration": 0.037261,
     "end_time": "2024-12-10T09:54:27.092382",
     "exception": false,
     "start_time": "2024-12-10T09:54:27.055121",
     "status": "completed"
    },
    "tags": []
   },
   "outputs": [],
   "source": [
    "df['duration'].value_counts()"
   ]
  },
  {
   "cell_type": "markdown",
   "id": "b793caf9",
   "metadata": {
    "papermill": {
     "duration": 0.024982,
     "end_time": "2024-12-10T09:54:29.092541",
     "exception": false,
     "start_time": "2024-12-10T09:54:29.067559",
     "status": "completed"
    },
    "tags": []
   },
   "source": [
    "## Pdays"
   ]
  },
  {
   "cell_type": "code",
   "execution_count": null,
   "id": "e90ae22a",
   "metadata": {
    "execution": {
     "iopub.execute_input": "2024-12-10T09:54:29.146744Z",
     "iopub.status.busy": "2024-12-10T09:54:29.146381Z",
     "iopub.status.idle": "2024-12-10T09:54:29.158067Z",
     "shell.execute_reply": "2024-12-10T09:54:29.156992Z"
    },
    "papermill": {
     "duration": 0.042082,
     "end_time": "2024-12-10T09:54:29.160241",
     "exception": false,
     "start_time": "2024-12-10T09:54:29.118159",
     "status": "completed"
    },
    "tags": []
   },
   "outputs": [],
   "source": [
    "df['pdays'].describe()"
   ]
  },
  {
   "cell_type": "markdown",
   "id": "adcb2445",
   "metadata": {
    "papermill": {
     "duration": 0.025931,
     "end_time": "2024-12-10T09:54:31.717735",
     "exception": false,
     "start_time": "2024-12-10T09:54:31.691804",
     "status": "completed"
    },
    "tags": []
   },
   "source": [
    "## Previous"
   ]
  },
  {
   "cell_type": "code",
   "execution_count": null,
   "id": "1c817e5b",
   "metadata": {
    "execution": {
     "iopub.execute_input": "2024-12-10T09:54:31.772308Z",
     "iopub.status.busy": "2024-12-10T09:54:31.771937Z",
     "iopub.status.idle": "2024-12-10T09:54:31.783811Z",
     "shell.execute_reply": "2024-12-10T09:54:31.782636Z"
    },
    "papermill": {
     "duration": 0.041684,
     "end_time": "2024-12-10T09:54:31.785970",
     "exception": false,
     "start_time": "2024-12-10T09:54:31.744286",
     "status": "completed"
    },
    "tags": []
   },
   "outputs": [],
   "source": [
    "df['pdays'].describe()"
   ]
  },
  {
   "cell_type": "markdown",
   "id": "a9531cd8",
   "metadata": {
    "papermill": {
     "duration": 0.026775,
     "end_time": "2024-12-10T09:54:34.383811",
     "exception": false,
     "start_time": "2024-12-10T09:54:34.357036",
     "status": "completed"
    },
    "tags": []
   },
   "source": [
    "## Poutcome"
   ]
  },
  {
   "cell_type": "code",
   "execution_count": null,
   "id": "b79dec7e",
   "metadata": {
    "execution": {
     "iopub.execute_input": "2024-12-10T09:54:34.440675Z",
     "iopub.status.busy": "2024-12-10T09:54:34.439653Z",
     "iopub.status.idle": "2024-12-10T09:54:34.449348Z",
     "shell.execute_reply": "2024-12-10T09:54:34.448370Z"
    },
    "papermill": {
     "duration": 0.040278,
     "end_time": "2024-12-10T09:54:34.451310",
     "exception": false,
     "start_time": "2024-12-10T09:54:34.411032",
     "status": "completed"
    },
    "tags": []
   },
   "outputs": [],
   "source": [
    "df['poutcome'].unique()"
   ]
  },
  {
   "cell_type": "code",
   "execution_count": null,
   "id": "412ee2eb",
   "metadata": {
    "execution": {
     "iopub.execute_input": "2024-12-10T09:54:34.507189Z",
     "iopub.status.busy": "2024-12-10T09:54:34.506445Z",
     "iopub.status.idle": "2024-12-10T09:54:34.517571Z",
     "shell.execute_reply": "2024-12-10T09:54:34.516432Z"
    },
    "papermill": {
     "duration": 0.041382,
     "end_time": "2024-12-10T09:54:34.519678",
     "exception": false,
     "start_time": "2024-12-10T09:54:34.478296",
     "status": "completed"
    },
    "tags": []
   },
   "outputs": [],
   "source": [
    "df['poutcome'].value_counts()"
   ]
  },
  {
   "cell_type": "code",
   "execution_count": null,
   "id": "590ddc7e",
   "metadata": {
    "execution": {
     "iopub.execute_input": "2024-12-10T09:54:34.577179Z",
     "iopub.status.busy": "2024-12-10T09:54:34.576194Z",
     "iopub.status.idle": "2024-12-10T09:54:34.590863Z",
     "shell.execute_reply": "2024-12-10T09:54:34.589810Z"
    },
    "papermill": {
     "duration": 0.045642,
     "end_time": "2024-12-10T09:54:34.593205",
     "exception": false,
     "start_time": "2024-12-10T09:54:34.547563",
     "status": "completed"
    },
    "tags": []
   },
   "outputs": [],
   "source": [
    "df['poutcome'] = df['poutcome'].replace('unknown', 'other')\n",
    "\n",
    "print(df['poutcome'].value_counts())"
   ]
  },
  {
   "cell_type": "markdown",
   "id": "0c3c5cc6",
   "metadata": {
    "papermill": {
     "duration": 0.0275,
     "end_time": "2024-12-10T09:54:35.067043",
     "exception": false,
     "start_time": "2024-12-10T09:54:35.039543",
     "status": "completed"
    },
    "tags": []
   },
   "source": [
    "# y"
   ]
  },
  {
   "cell_type": "code",
   "execution_count": null,
   "id": "c5393a64",
   "metadata": {
    "execution": {
     "iopub.execute_input": "2024-12-10T09:54:35.125748Z",
     "iopub.status.busy": "2024-12-10T09:54:35.124904Z",
     "iopub.status.idle": "2024-12-10T09:54:35.132596Z",
     "shell.execute_reply": "2024-12-10T09:54:35.131569Z"
    },
    "papermill": {
     "duration": 0.039213,
     "end_time": "2024-12-10T09:54:35.134701",
     "exception": false,
     "start_time": "2024-12-10T09:54:35.095488",
     "status": "completed"
    },
    "tags": []
   },
   "outputs": [],
   "source": [
    "df['y'].unique()"
   ]
  },
  {
   "cell_type": "code",
   "execution_count": null,
   "id": "6911212c",
   "metadata": {
    "execution": {
     "iopub.execute_input": "2024-12-10T09:54:35.195469Z",
     "iopub.status.busy": "2024-12-10T09:54:35.194651Z",
     "iopub.status.idle": "2024-12-10T09:54:35.203587Z",
     "shell.execute_reply": "2024-12-10T09:54:35.202458Z"
    },
    "papermill": {
     "duration": 0.04085,
     "end_time": "2024-12-10T09:54:35.205738",
     "exception": false,
     "start_time": "2024-12-10T09:54:35.164888",
     "status": "completed"
    },
    "tags": []
   },
   "outputs": [],
   "source": [
    "df['y'].value_counts()"
   ]
  },
  {
   "cell_type": "markdown",
   "id": "a43ed739",
   "metadata": {
    "papermill": {
     "duration": 0.035355,
     "end_time": "2024-12-10T09:54:35.482034",
     "exception": false,
     "start_time": "2024-12-10T09:54:35.446679",
     "status": "completed"
    },
    "tags": []
   },
   "source": [
    "# Label Encoder"
   ]
  },
  {
   "cell_type": "code",
   "execution_count": null,
   "id": "28693954",
   "metadata": {
    "execution": {
     "iopub.execute_input": "2024-12-10T09:54:35.540685Z",
     "iopub.status.busy": "2024-12-10T09:54:35.540311Z",
     "iopub.status.idle": "2024-12-10T09:54:35.637378Z",
     "shell.execute_reply": "2024-12-10T09:54:35.636347Z"
    },
    "papermill": {
     "duration": 0.129343,
     "end_time": "2024-12-10T09:54:35.639864",
     "exception": false,
     "start_time": "2024-12-10T09:54:35.510521",
     "status": "completed"
    },
    "tags": []
   },
   "outputs": [],
   "source": [
    "encoder = LabelEncoder()\n",
    "\n",
    "label_mappings = {}\n",
    "\n",
    "for col in df.select_dtypes('object'):\n",
    "    df[col] = encoder.fit_transform(df[col])\n",
    "    label_mappings[col] = dict(zip(encoder.classes_, encoder.transform(encoder.classes_)))\n",
    "\n",
    "for col, mapping in label_mappings.items():\n",
    "    print(f\"Column: {col}\")\n",
    "    for label, code in mapping.items():\n",
    "        print(f\"{code} -> {label}\")\n",
    "    print()"
   ]
  }
 ],
 "metadata": {
  "kaggle": {
   "accelerator": "none",
   "dataSources": [
    {
     "datasetId": 6222475,
     "sourceId": 10091092,
     "sourceType": "datasetVersion"
    }
   ],
   "dockerImageVersionId": 30804,
   "isGpuEnabled": false,
   "isInternetEnabled": true,
   "language": "python",
   "sourceType": "notebook"
  },
  "kernelspec": {
   "display_name": "Python 3",
   "language": "python",
   "name": "python3"
  },
  "language_info": {
   "codemirror_mode": {
    "name": "ipython",
    "version": 3
   },
   "file_extension": ".py",
   "mimetype": "text/x-python",
   "name": "python",
   "nbconvert_exporter": "python",
   "pygments_lexer": "ipython3",
   "version": "3.11.9"
  },
  "papermill": {
   "default_parameters": {},
   "duration": 73.715468,
   "end_time": "2024-12-10T09:55:27.355872",
   "environment_variables": {},
   "exception": null,
   "input_path": "__notebook__.ipynb",
   "output_path": "__notebook__.ipynb",
   "parameters": {},
   "start_time": "2024-12-10T09:54:13.640404",
   "version": "2.6.0"
  }
 },
 "nbformat": 4,
 "nbformat_minor": 5
}
