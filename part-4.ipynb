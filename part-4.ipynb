{
 "cells": [
  {
   "cell_type": "code",
   "execution_count": 1,
   "metadata": {},
   "outputs": [],
   "source": [
    "import sqlite3\n",
    "import pandas as pd\n",
    "import numpy as np\n",
    "import matplotlib.pyplot as plt\n",
    "import seaborn as sns\n",
    "sns.set(style=\"whitegrid\")"
   ]
  },
  {
   "cell_type": "code",
   "execution_count": 2,
   "metadata": {},
   "outputs": [],
   "source": [
    "# Establish connection to the SQLite database\n",
    "conn = sqlite3.connect('mydatabase.db')"
   ]
  },
  {
   "cell_type": "code",
   "execution_count": 3,
   "metadata": {},
   "outputs": [],
   "source": [
    "# Example SQL query to retrieve data for EDA\n",
    "query = \"\"\"\n",
    "SELECT *\n",
    "FROM main_table\n",
    "\"\"\"\n",
    "df = pd.read_sql_query(query, conn)\n",
    "\n",
    "# Optionally, load specific subsets or additional queries if needed for specific analyses\n"
   ]
  },
  {
   "cell_type": "code",
   "execution_count": null,
   "metadata": {},
   "outputs": [],
   "source": [
    "# Histogram of the 'age' column\n",
    "plt.figure(figsize=(10, 6))\n",
    "sns.histplot(df['age'], bins=30, kde=True, color='skyblue')\n",
    "plt.title('Distribution of Age')\n",
    "plt.xlabel('Age')\n",
    "plt.ylabel('Frequency')\n",
    "plt.show()\n",
    "\n",
    "# Boxplot for the 'balance' column\n",
    "plt.figure(figsize=(10, 6))\n",
    "sns.boxplot(x=df['balance'])\n",
    "plt.title('Box Plot of Balance')\n",
    "plt.xlabel('Balance')\n",
    "plt.show()\n"
   ]
  },
  {
   "cell_type": "code",
   "execution_count": null,
   "metadata": {},
   "outputs": [],
   "source": [
    "# Scatter plot between 'age' and 'balance'\n",
    "plt.figure(figsize=(10, 6))\n",
    "sns.scatterplot(x='age', y='balance', data=df, hue='y')\n",
    "plt.title('Age vs Balance Scatter Plot')\n",
    "plt.xlabel('Age')\n",
    "plt.ylabel('Balance')\n",
    "plt.show()\n",
    "\n",
    "# Bar chart of 'job' vs 'balance'\n",
    "plt.figure(figsize=(14, 7))\n",
    "sns.barplot(x='job', y='balance', data=df, palette='viridis')\n",
    "plt.title('Average Balance by Job Type')\n",
    "plt.xticks(rotation=45)\n",
    "plt.xlabel('Job')\n",
    "plt.ylabel('Average Balance')\n",
    "plt.show()\n"
   ]
  },
  {
   "cell_type": "code",
   "execution_count": null,
   "metadata": {},
   "outputs": [],
   "source": [
    "# Select only numeric columns for correlation matrix\n",
    "numeric_df = df.select_dtypes(include=[np.number])  # np.number covers all numeric types\n",
    "plt.figure(figsize=(10, 8))\n",
    "sns.heatmap(numeric_df.corr(), annot=True, cmap='coolwarm', linewidths=0.5)\n",
    "plt.title('Correlation Heatmap')\n",
    "plt.show()\n"
   ]
  },
  {
   "cell_type": "code",
   "execution_count": null,
   "metadata": {},
   "outputs": [],
   "source": [
    "numeric_df = df.select_dtypes(include=[np.number])\n",
    "\n",
    "# Now you can safely compute the descriptive statistics and correlation matrix\n",
    "print(\"Basic Descriptive Statistics:\")\n",
    "print(numeric_df.describe())\n",
    "\n",
    "print(\"\\nCorrelation Coefficients:\")\n",
    "print(numeric_df.corr())"
   ]
  },
  {
   "cell_type": "code",
   "execution_count": null,
   "metadata": {},
   "outputs": [],
   "source": [
    "print(df.columns)"
   ]
  }
 ],
 "metadata": {
  "kernelspec": {
   "display_name": "Python 3",
   "language": "python",
   "name": "python3"
  },
  "language_info": {
   "codemirror_mode": {
    "name": "ipython",
    "version": 3
   },
   "file_extension": ".py",
   "mimetype": "text/x-python",
   "name": "python",
   "nbconvert_exporter": "python",
   "pygments_lexer": "ipython3",
   "version": "3.11.9"
  }
 },
 "nbformat": 4,
 "nbformat_minor": 2
}
